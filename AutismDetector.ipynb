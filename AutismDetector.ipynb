{
  "nbformat": 4,
  "nbformat_minor": 0,
  "metadata": {
    "colab": {
      "provenance": [],
      "toc_visible": true
    },
    "kernelspec": {
      "name": "python3",
      "display_name": "Python 3"
    },
    "language_info": {
      "name": "python"
    }
  },
  "cells": [
    {
      "cell_type": "markdown",
      "source": [
        "# Training the model\n"
      ],
      "metadata": {
        "id": "vmkduRwUjYGq"
      }
    },
    {
      "cell_type": "code",
      "execution_count": 12,
      "metadata": {
        "id": "3dqZw8j_EBbc",
        "colab": {
          "base_uri": "https://localhost:8080/"
        },
        "outputId": "76bc2e14-2ba2-4ce4-a062-9f79f207749f"
      },
      "outputs": [
        {
          "output_type": "stream",
          "name": "stdout",
          "text": [
            "Accuracy: 0.92\n",
            "Classification Report: \n",
            "              precision    recall  f1-score   support\n",
            "\n",
            "           0       1.00      0.87      0.93        30\n",
            "           1       0.83      1.00      0.91        20\n",
            "\n",
            "    accuracy                           0.92        50\n",
            "   macro avg       0.92      0.93      0.92        50\n",
            "weighted avg       0.93      0.92      0.92        50\n",
            "\n"
          ]
        }
      ],
      "source": [
        "import pandas as pd\n",
        "from sklearn.preprocessing import LabelEncoder\n",
        "from sklearn.model_selection import train_test_split\n",
        "from sklearn.preprocessing import StandardScaler\n",
        "from sklearn.ensemble import RandomForestClassifier\n",
        "import joblib\n",
        "# Load the dataset\n",
        "data = pd.read_csv('csv_result-Autism-Child-Data.csv')\n",
        "# Preprocessing: Handle missing data\n",
        "data = data.replace('?', None)\n",
        "data = data.dropna()\n",
        "# Initialize label encoders\n",
        "le_gender = LabelEncoder()\n",
        "le_ethnicity = LabelEncoder()\n",
        "le_jundice = LabelEncoder()\n",
        "le_austim = LabelEncoder()\n",
        "le_used_app_before = LabelEncoder()\n",
        "le_relation = LabelEncoder()\n",
        "le_class = LabelEncoder()\n",
        "# Encode categorical columns\n",
        "data['gender'] = le_gender.fit_transform(data['gender'])\n",
        "data['ethnicity'] = le_ethnicity.fit_transform(data['ethnicity'])\n",
        "data['jundice'] = le_jundice.fit_transform(data['jundice'])\n",
        "data['austim'] = le_austim.fit_transform(data['austim'])\n",
        "data['used_app_before'] = le_used_app_before.fit_transform(data['used_app_before'])\n",
        "data['relation'] = le_relation.fit_transform(data['relation'])\n",
        "data['Class/ASD'] = le_class.fit_transform(data['Class/ASD'])\n",
        "# Features and target\n",
        "X = data.drop(['id', 'Class/ASD', 'result', 'age_desc', 'contry_of_res'], axis=1)\n",
        "y = data['Class/ASD']\n",
        "# Split the dataset into training and testing sets\n",
        "X_train, X_test, y_train, y_test = train_test_split(X, y, test_size=0.2, random_state=42)\n",
        "# Standardize the features\n",
        "scaler = StandardScaler()\n",
        "X_train = scaler.fit_transform(X_train)\n",
        "X_test = scaler.transform(X_test)\n",
        "# Train a Random Forest Classifier\n",
        "clf = RandomForestClassifier(random_state=42)\n",
        "clf.fit(X_train, y_train)\n",
        "# Save the trained model and scaler\n",
        "joblib.dump(clf, 'autism_model.pkl')\n",
        "joblib.dump(scaler, 'scaler.pkl')\n",
        "joblib.dump(le_gender, 'le_gender.pkl')\n",
        "joblib.dump(le_ethnicity, 'le_ethnicity.pkl')\n",
        "joblib.dump(le_jundice, 'le_jundice.pkl')\n",
        "joblib.dump(le_austim, 'le_austim.pkl')\n",
        "joblib.dump(le_used_app_before, 'le_used_app_before.pkl')\n",
        "joblib.dump(le_relation, 'le_relation.pkl')\n",
        "joblib.dump(le_class, 'le_class.pkl')\n",
        "# Evaluate the model\n",
        "from sklearn.metrics import accuracy_score, classification_report\n",
        "y_pred = clf.predict(X_test)\n",
        "accuracy = accuracy_score(y_test, y_pred)\n",
        "print(f\"Accuracy: {accuracy}\")\n",
        "print(f\"Classification Report: \\n{classification_report(y_test, y_pred)}\")"
      ]
    }
  ]
}